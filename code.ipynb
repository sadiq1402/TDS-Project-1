{
  "nbformat": 4,
  "nbformat_minor": 0,
  "metadata": {
    "colab": {
      "provenance": []
    },
    "kernelspec": {
      "name": "python3",
      "display_name": "Python 3"
    },
    "language_info": {
      "name": "python"
    }
  },
  "cells": [
    {
      "cell_type": "code",
      "source": [
        "!pip install tqdm"
      ],
      "metadata": {
        "colab": {
          "base_uri": "https://localhost:8080/"
        },
        "id": "DiYkUdTeYft-",
        "outputId": "65aeaf4d-01d8-435a-d335-bb51ac7b4129"
      },
      "execution_count": null,
      "outputs": [
        {
          "output_type": "stream",
          "name": "stdout",
          "text": [
            "Requirement already satisfied: tqdm in /usr/local/lib/python3.10/dist-packages (4.66.5)\n"
          ]
        }
      ]
    },
    {
      "cell_type": "code",
      "source": [
        "import requests\n",
        "import pandas as pd\n",
        "import numpy as np\n",
        "from datetime import datetime\n",
        "from tqdm import tqdm\n",
        "import re\n",
        "\n",
        "# Replace 'your_github_token_here' with your actual GitHub token\n",
        "GITHUB_TOKEN = 'GITHUB_TOKEN'\n",
        "HEADERS = {'Authorization': f'token {GITHUB_TOKEN}'}\n",
        "BASE_URL = 'https://api.github.com'\n",
        "\n",
        "\n",
        "# Modify functions to add progress bars\n",
        "\n",
        "# Retrieve users with over 50 followers in Dublin\n",
        "def get_dublin_users(min_followers=50):\n",
        "    users = []\n",
        "    page = 1\n",
        "    with tqdm(desc=\"Fetching Dublin Users\", unit=\"page\") as pbar:\n",
        "        while True:\n",
        "            # Search for users in Dublin with the specified number of followers\n",
        "            url = f\"{BASE_URL}/search/users?q=location:Dublin+followers:>{min_followers}&page={page}&per_page=100\"\n",
        "            response = requests.get(url, headers=HEADERS)\n",
        "            data = response.json()\n",
        "\n",
        "            if 'items' not in data:\n",
        "                break\n",
        "            users.extend(data['items'])\n",
        "\n",
        "            if len(data['items']) < 100:\n",
        "                break\n",
        "            page += 1\n",
        "            pbar.update(1)  # Update progress bar for each page\n",
        "    return users\n",
        "\n",
        "# Fetch user details\n",
        "def get_user_details(username):\n",
        "    url = f\"{BASE_URL}/users/{username}\"\n",
        "    response = requests.get(url, headers=HEADERS)\n",
        "    return response.json()\n",
        "\n",
        "# Fetch repositories for a user\n",
        "def get_user_repos(username, max_repos=500):\n",
        "    repos = []\n",
        "    page = 1\n",
        "    while len(repos) < max_repos:\n",
        "        url = f\"{BASE_URL}/users/{username}/repos?per_page=100&page={page}\"\n",
        "        response = requests.get(url, headers=HEADERS)\n",
        "        data = response.json()\n",
        "        if not data:\n",
        "            break\n",
        "        repos.extend(data[:max_repos - len(repos)])\n",
        "        page += 1\n",
        "    return repos[:max_repos]\n",
        "# Fetch user details and add progress bar for each user\n",
        "dublin_users = get_dublin_users()\n",
        "\n",
        "# Initialize lists for user and repository data\n",
        "users_data = []\n",
        "repos_data = []\n",
        "\n",
        "for user in tqdm(dublin_users, desc=\"Processing Users\", unit=\"user\"):\n",
        "    details = get_user_details(user['login'])\n",
        "\n",
        "    # Clean company name\n",
        "    company = details.get('company', '') or ''\n",
        "    company = re.sub(r'^@', '', company.strip()).upper()\n",
        "\n",
        "    # Append to users data\n",
        "    users_data.append({\n",
        "        'login': details['login'],\n",
        "        'name': details.get('name', ''),\n",
        "        'company': company,\n",
        "        'location': details.get('location', ''),\n",
        "        'email': details.get('email', ''),\n",
        "        'hireable': details.get('hireable', ''),\n",
        "        'bio': details.get('bio', ''),\n",
        "        'public_repos': details.get('public_repos', 0),\n",
        "        'followers': details.get('followers', 0),\n",
        "        'following': details.get('following', 0),\n",
        "        'created_at': details.get('created_at', '')\n",
        "    })\n",
        "\n",
        "    # Fetch up to 500 repositories per user\n",
        "    repos = get_user_repos(details['login'])\n",
        "    for repo in repos:\n",
        "        repos_data.append({\n",
        "            'login': details['login'],\n",
        "            'full_name': repo['full_name'],\n",
        "            'created_at': repo['created_at'],\n",
        "            'stargazers_count': repo['stargazers_count'],\n",
        "            'watchers_count': repo['watchers_count'],\n",
        "            'language': repo['language'] or '',\n",
        "            'has_projects': repo['has_projects'],\n",
        "            'has_wiki': repo['has_wiki'],\n",
        "            'license_name': repo['license']['key'] if repo['license'] else ''\n",
        "        })\n",
        "\n",
        "# Convert to DataFrames\n",
        "users_df = pd.DataFrame(users_data)\n",
        "repos_df = pd.DataFrame(repos_data)\n",
        "\n",
        "# Save as CSV files\n",
        "users_df.to_csv('users.csv', index=False)\n",
        "repos_df.to_csv('repositories.csv', index=False)\n",
        "\n",
        "# Write README.md content\n",
        "readme_content = \"\"\"\n",
        "* This project scrapes GitHub data for users in Dublin with over 50 followers.\n",
        "* Analysis shows interesting patterns in user engagement and repository activity.\n",
        "* Developers should consider enabling wiki and project features to improve repository visibility.\n",
        "\n",
        "\"\"\"\n",
        "\n",
        "with open('README.md', 'w') as f:\n",
        "    f.write(readme_content)\n",
        "\n",
        "# Display data for question analysis\n",
        "users_df.head(), repos_df.head()"
      ],
      "metadata": {
        "colab": {
          "base_uri": "https://localhost:8080/"
        },
        "id": "Fd-eS_Z7VjOX",
        "outputId": "ebb357da-afc4-416d-d9b4-70c818963116"
      },
      "execution_count": 1,
      "outputs": [
        {
          "output_type": "stream",
          "name": "stderr",
          "text": [
            "Fetching Dublin Users: 4page [00:02,  1.88page/s]\n",
            "Processing Users: 100%|██████████| 477/477 [15:12<00:00,  1.91s/user]\n"
          ]
        },
        {
          "output_type": "execute_result",
          "data": {
            "text/plain": [
              "(                  login                    name  \\\n",
              " 0                  orta             Orta Therox   \n",
              " 1         jeromeetienne          Jerome Etienne   \n",
              " 2            jonataslaw            Jonny Borges   \n",
              " 3  steventroughtonsmith  Steven Troughton-Smith   \n",
              " 4                  axic        Alex Beregszaszi   \n",
              " \n",
              "                                    company  \\\n",
              " 0                                            \n",
              " 1                   MAKING WEBAR A REALITY   \n",
              " 2                                     IRIS   \n",
              " 3                    HIGH CAFFEINE CONTENT   \n",
              " 4  ETHEREUM @IPSILON @SPEARBIT @ETHEREUMJS   \n",
              " \n",
              "                                        location                     email  \\\n",
              " 0  Huddersfield / NYC / Dublin / Rio de Janeiro               git@orta.io   \n",
              " 1                               Dublin, Ireland  jerome.etienne@gmail.com   \n",
              " 2                               Dublin, Ireland                      None   \n",
              " 3                               Dublin, Ireland                      None   \n",
              " 4                               Dublin, Ireland                      None   \n",
              " \n",
              "   hireable                                                bio  public_repos  \\\n",
              " 0     None  Tech on @puzzmo-com \\r\\n\\r\\nEx-TypeScript. Con...           952   \n",
              " 1     True  Making WebAR a reality - Around Javascript and...           301   \n",
              " 2     True  VP of Engineering from Iris Finance.\\r\\nDevelo...           272   \n",
              " 3     None                                               None            98   \n",
              " 4     True  Works on decentralised stuff.\\r\\n\\r\\neipnft:ax...           143   \n",
              " \n",
              "    followers  following            created_at  \n",
              " 0       6017        109  2009-01-24T20:40:31Z  \n",
              " 1       2780         15  2010-04-26T11:58:29Z  \n",
              " 2       2692         17  2018-01-23T19:17:15Z  \n",
              " 3       1984          4  2009-01-08T23:51:31Z  \n",
              " 4       1807          5  2008-08-11T23:38:10Z  ,\n",
              "   login                     full_name            created_at  stargazers_count  \\\n",
              " 0  orta       orta/11ty-twoslash-test  2020-08-23T10:48:14Z                 1   \n",
              " 1  orta                    orta/31465  2020-03-24T21:00:15Z                 2   \n",
              " 2  orta                    orta/31859  2020-07-14T19:02:11Z                 0   \n",
              " 3  orta                        orta/a  2018-01-30T15:41:33Z                 1   \n",
              " 4  orta  orta/ABetterPlaceForTweetbot  2021-12-13T05:37:20Z                 0   \n",
              " \n",
              "    watchers_count    language  has_projects  has_wiki license_name  \n",
              " 0               1        HTML          True      True               \n",
              " 1               2  TypeScript          True      True               \n",
              " 2               0  TypeScript          True      True               \n",
              " 3               1  TypeScript          True      True          mit  \n",
              " 4               0                      True      True          mit  )"
            ]
          },
          "metadata": {},
          "execution_count": 1
        }
      ]
    },
    {
      "cell_type": "code",
      "source": [
        "# Sort users by the number of followers in descending order and select the top 5\n",
        "top_5_users = users_df.sort_values(by='followers', ascending=False).head(5)['login'].tolist()\n",
        "\n",
        "# Join the login names as a comma-separated string\n",
        "top_5_users_str = ','.join(top_5_users)\n",
        "top_5_users_str\n"
      ],
      "metadata": {
        "colab": {
          "base_uri": "https://localhost:8080/",
          "height": 55
        },
        "id": "ThtQjANJYzMu",
        "outputId": "4dfd9310-323b-4254-de01-3dc5ad02932e"
      },
      "execution_count": null,
      "outputs": [
        {
          "output_type": "execute_result",
          "data": {
            "text/plain": [
              "'orta,jeromeetienne,jonataslaw,steventroughtonsmith,axic'"
            ],
            "application/vnd.google.colaboratory.intrinsic+json": {
              "type": "string"
            }
          },
          "metadata": {},
          "execution_count": 6
        }
      ]
    },
    {
      "cell_type": "code",
      "source": [
        "# Convert the 'created_at' column to datetime format if not already in that format\n",
        "users_df['created_at'] = pd.to_datetime(users_df['created_at'])\n",
        "\n",
        "# Sort by 'created_at' in ascending order and select the top 5\n",
        "earliest_5_users = users_df.sort_values(by='created_at').head(5)['login'].tolist()\n",
        "\n",
        "# Join the login names as a comma-separated string\n",
        "earliest_5_users_str = ','.join(earliest_5_users)\n",
        "earliest_5_users_str\n"
      ],
      "metadata": {
        "colab": {
          "base_uri": "https://localhost:8080/",
          "height": 55
        },
        "id": "n5i02SwFb_HN",
        "outputId": "60e70758-4e3d-4b3f-edd7-e95b8d04bd7a"
      },
      "execution_count": null,
      "outputs": [
        {
          "output_type": "execute_result",
          "data": {
            "text/plain": [
              "'paulca,adrian,GavinJoyce,amir,ciaranlee'"
            ],
            "application/vnd.google.colaboratory.intrinsic+json": {
              "type": "string"
            }
          },
          "metadata": {},
          "execution_count": 7
        }
      ]
    },
    {
      "cell_type": "code",
      "source": [
        "# Filter out repositories without a license\n",
        "repos_with_license = repos_df[repos_df['license_name'] != '']\n",
        "\n",
        "# Count the occurrences of each license and get the top 3\n",
        "top_3_licenses = repos_with_license['license_name'].value_counts().head(3).index.tolist()\n",
        "\n",
        "# Join the license names as a comma-separated string\n",
        "top_3_licenses_str = ','.join(top_3_licenses)\n",
        "top_3_licenses_str\n"
      ],
      "metadata": {
        "colab": {
          "base_uri": "https://localhost:8080/",
          "height": 55
        },
        "id": "QKA0oo0tcQne",
        "outputId": "7e04004f-6d34-43f4-df89-4d253bca2c94"
      },
      "execution_count": null,
      "outputs": [
        {
          "output_type": "execute_result",
          "data": {
            "text/plain": [
              "'mit,apache-2.0,other'"
            ],
            "application/vnd.google.colaboratory.intrinsic+json": {
              "type": "string"
            }
          },
          "metadata": {},
          "execution_count": 8
        }
      ]
    },
    {
      "cell_type": "code",
      "source": [
        "# Filter out empty company values\n",
        "companies = users_df[users_df['company'] != '']\n",
        "\n",
        "# Count occurrences of each company and get the most common one\n",
        "most_common_company = companies['company'].value_counts().idxmax()\n",
        "most_common_company\n"
      ],
      "metadata": {
        "colab": {
          "base_uri": "https://localhost:8080/",
          "height": 55
        },
        "id": "wHwraNrwcq2Y",
        "outputId": "5055d1b6-6c4c-4b3b-a809-201ef6fc77cf"
      },
      "execution_count": null,
      "outputs": [
        {
          "output_type": "execute_result",
          "data": {
            "text/plain": [
              "'AWS'"
            ],
            "application/vnd.google.colaboratory.intrinsic+json": {
              "type": "string"
            }
          },
          "metadata": {},
          "execution_count": 9
        }
      ]
    },
    {
      "cell_type": "code",
      "source": [
        "#  Which programming language is most popular among these users?"
      ],
      "metadata": {
        "id": "DaUzyEZzgH42"
      },
      "execution_count": null,
      "outputs": []
    },
    {
      "cell_type": "code",
      "source": [
        "language_counts = repos_df.groupby('language')['login'].nunique().sort_values(ascending=False)"
      ],
      "metadata": {
        "id": "7BEl-L-ugcCM"
      },
      "execution_count": null,
      "outputs": []
    },
    {
      "cell_type": "code",
      "source": [
        "most_popular_language = language_counts.index[0]\n",
        "print(f\"The most popular programming language is: {most_popular_language}\")"
      ],
      "metadata": {
        "colab": {
          "base_uri": "https://localhost:8080/"
        },
        "id": "in3WZcHYgWPW",
        "outputId": "602a1165-7c16-4848-955a-14dcaaa280c6"
      },
      "execution_count": null,
      "outputs": [
        {
          "output_type": "stream",
          "name": "stdout",
          "text": [
            "The most popular programming language is: \n"
          ]
        }
      ]
    },
    {
      "cell_type": "code",
      "source": [
        "# Filter out empty language values\n",
        "languages = repos_df[repos_df['language'] != '']\n",
        "\n",
        "# Count occurrences of each language and get the most common one\n",
        "most_popular_language = languages['language'].value_counts().idxmax()\n",
        "most_popular_language\n"
      ],
      "metadata": {
        "colab": {
          "base_uri": "https://localhost:8080/",
          "height": 55
        },
        "id": "_EEK8gl0ggNt",
        "outputId": "ef3c1cb3-93c0-4aa7-dc69-38d1e0b1a8e1"
      },
      "execution_count": null,
      "outputs": [
        {
          "output_type": "execute_result",
          "data": {
            "text/plain": [
              "'JavaScript'"
            ],
            "application/vnd.google.colaboratory.intrinsic+json": {
              "type": "string"
            }
          },
          "metadata": {},
          "execution_count": 13
        }
      ]
    },
    {
      "cell_type": "code",
      "source": [
        "# Ensure 'created_at' is in datetime format\n",
        "users_df['created_at'] = pd.to_datetime(users_df['created_at'])\n",
        "\n",
        "# Filter users who joined after 2020\n",
        "users_after_2020 = users_df[users_df['created_at'] > '2020-12-31']\n",
        "\n",
        "# Get logins of these users\n",
        "logins_after_2020 = users_after_2020['login'].tolist()\n",
        "\n",
        "# Filter repositories for users who joined after 2020\n",
        "repos_after_2020 = repos_df[repos_df['login'].isin(logins_after_2020)]\n",
        "\n",
        "# Filter out empty languages and count occurrences of each language\n",
        "language_counts = repos_after_2020['language'].value_counts()\n",
        "\n",
        "# Get the second most popular language\n",
        "second_most_popular_language = language_counts.index[1] if len(language_counts) > 1 else None\n",
        "second_most_popular_language\n"
      ],
      "metadata": {
        "colab": {
          "base_uri": "https://localhost:8080/",
          "height": 55
        },
        "id": "qe40rPNagrZb",
        "outputId": "7b0e49fc-8a06-4123-c54b-6fd43071c920"
      },
      "execution_count": null,
      "outputs": [
        {
          "output_type": "execute_result",
          "data": {
            "text/plain": [
              "'Python'"
            ],
            "application/vnd.google.colaboratory.intrinsic+json": {
              "type": "string"
            }
          },
          "metadata": {},
          "execution_count": 5
        }
      ]
    },
    {
      "cell_type": "code",
      "source": [
        "# Filter out repositories without a specified language\n",
        "repos_with_language = repos_df[repos_df['language'] != '']\n",
        "\n",
        "# Calculate the average number of stars per language\n",
        "average_stars_per_language = repos_with_language.groupby('language')['stargazers_count'].mean()\n",
        "\n",
        "# Get the language with the highest average number of stars\n",
        "highest_avg_stars_language = average_stars_per_language.idxmax()\n",
        "highest_avg_stars_language\n"
      ],
      "metadata": {
        "colab": {
          "base_uri": "https://localhost:8080/",
          "height": 55
        },
        "id": "-hm7GTLug8In",
        "outputId": "a45f141b-d8f6-47b1-92f4-264e6d402e5c"
      },
      "execution_count": null,
      "outputs": [
        {
          "output_type": "execute_result",
          "data": {
            "text/plain": [
              "'MDX'"
            ],
            "application/vnd.google.colaboratory.intrinsic+json": {
              "type": "string"
            }
          },
          "metadata": {},
          "execution_count": 6
        }
      ]
    },
    {
      "cell_type": "code",
      "source": [
        "# Define leader_strength as followers / (1 + following)\n",
        "users_df['leader_strength'] = users_df['followers'] / (1 + users_df['following'])\n",
        "\n",
        "# Sort by leader_strength in descending order and get the top 5 users\n",
        "top_5_leader_strength = users_df.sort_values(by='leader_strength', ascending=False).head(5)['login'].tolist()\n",
        "\n",
        "# Join the login names as a comma-separated string\n",
        "top_5_leader_strength_str = ','.join(top_5_leader_strength)\n",
        "top_5_leader_strength_str\n"
      ],
      "metadata": {
        "colab": {
          "base_uri": "https://localhost:8080/",
          "height": 55
        },
        "id": "vjvg7l7O0fCl",
        "outputId": "795527f9-6eff-4af4-9027-d0a4e292a64c"
      },
      "execution_count": null,
      "outputs": [
        {
          "output_type": "execute_result",
          "data": {
            "text/plain": [
              "'flaviohenriquealmeida,zalando,AnikSarker,wix,CardinalHealth'"
            ],
            "application/vnd.google.colaboratory.intrinsic+json": {
              "type": "string"
            }
          },
          "metadata": {},
          "execution_count": 7
        }
      ]
    },
    {
      "cell_type": "code",
      "source": [
        "# Calculate the Pearson correlation coefficient between followers and public_repos\n",
        "correlation_followers_repos = users_df['followers'].corr(users_df['public_repos'])\n",
        "\n",
        "# Round to 3 decimal places\n",
        "correlation_followers_repos = round(correlation_followers_repos, 3)\n",
        "correlation_followers_repos\n"
      ],
      "metadata": {
        "colab": {
          "base_uri": "https://localhost:8080/"
        },
        "id": "wmNDdw3F0oTv",
        "outputId": "cfb6317d-17d4-4d5c-faa0-56acbe0b4626"
      },
      "execution_count": null,
      "outputs": [
        {
          "output_type": "execute_result",
          "data": {
            "text/plain": [
              "0.555"
            ]
          },
          "metadata": {},
          "execution_count": 8
        }
      ]
    },
    {
      "cell_type": "code",
      "source": [
        "from scipy.stats import linregress\n",
        "\n",
        "# Perform linear regression with public_repos as independent variable and followers as dependent variable\n",
        "slope, intercept, r_value, p_value, std_err = linregress(users_df['public_repos'], users_df['followers'])\n",
        "\n",
        "# Round the slope to 3 decimal places\n",
        "slope = round(slope, 3)\n",
        "slope\n"
      ],
      "metadata": {
        "colab": {
          "base_uri": "https://localhost:8080/"
        },
        "id": "UmnRq9zw0vSi",
        "outputId": "1ef20fad-5e25-41ef-f535-cf4ef8e0d068"
      },
      "execution_count": null,
      "outputs": [
        {
          "output_type": "execute_result",
          "data": {
            "text/plain": [
              "2.825"
            ]
          },
          "metadata": {},
          "execution_count": 9
        }
      ]
    },
    {
      "cell_type": "code",
      "source": [
        "# Calculate leader_strength\n",
        "users_df['leader_strength'] = users_df['followers'] / (1 + users_df['following'])\n",
        "\n",
        "# Sort by leader_strength in descending order and get the top 5 users\n",
        "top_leaders = users_df.sort_values(by='leader_strength', ascending=False).head(5)\n",
        "\n",
        "# Extract the 'login' column and join as a comma-separated string\n",
        "top_leader_logins = ', '.join(top_leaders['login'].tolist())\n",
        "top_leader_logins\n"
      ],
      "metadata": {
        "id": "yRJ6m-yw1hq-",
        "colab": {
          "base_uri": "https://localhost:8080/",
          "height": 55
        },
        "outputId": "c27f2806-fc00-4dd4-f80c-496925ad2ee1"
      },
      "execution_count": null,
      "outputs": [
        {
          "output_type": "execute_result",
          "data": {
            "text/plain": [
              "'flaviohenriquealmeida, zalando, AnikSarker, wix, CardinalHealth'"
            ],
            "application/vnd.google.colaboratory.intrinsic+json": {
              "type": "string"
            }
          },
          "metadata": {},
          "execution_count": 2
        }
      ]
    },
    {
      "cell_type": "code",
      "source": [
        "# Calculate correlation between followers and public repositories\n",
        "correlation = users_df['followers'].corr(users_df['public_repos'])\n",
        "\n",
        "# Display the result rounded to 3 decimal places\n",
        "correlation_rounded = round(correlation, 3)\n",
        "correlation_rounded\n"
      ],
      "metadata": {
        "colab": {
          "base_uri": "https://localhost:8080/"
        },
        "id": "ag11jxMsq5_j",
        "outputId": "8830b1b2-ea21-42eb-a616-be93b36ab51e"
      },
      "execution_count": null,
      "outputs": [
        {
          "output_type": "execute_result",
          "data": {
            "text/plain": [
              "0.555"
            ]
          },
          "metadata": {},
          "execution_count": 3
        }
      ]
    },
    {
      "cell_type": "code",
      "source": [
        "import statsmodels.api as sm\n",
        "\n",
        "# Define the independent (public_repos) and dependent (followers) variables\n",
        "X = users_df['public_repos']\n",
        "y = users_df['followers']\n",
        "\n",
        "# Add a constant to the independent variable (for intercept)\n",
        "X = sm.add_constant(X)\n",
        "\n",
        "# Fit the linear regression model\n",
        "model = sm.OLS(y, X).fit()\n",
        "\n",
        "# Extract the slope (coefficient of public_repos)\n",
        "slope_repos_followers = round(model.params['public_repos'], 3)\n",
        "slope_repos_followers\n"
      ],
      "metadata": {
        "colab": {
          "base_uri": "https://localhost:8080/"
        },
        "id": "r2kPfCdZrd-C",
        "outputId": "3448c9cb-38d8-4198-b557-cec2d24bad12"
      },
      "execution_count": null,
      "outputs": [
        {
          "output_type": "execute_result",
          "data": {
            "text/plain": [
              "2.825"
            ]
          },
          "metadata": {},
          "execution_count": 8
        }
      ]
    },
    {
      "cell_type": "code",
      "source": [
        "import pandas as pd\n",
        "\n",
        "# Convert 'created_at' to datetime format\n",
        "repos_df['created_at'] = pd.to_datetime(repos_df['created_at'])\n",
        "\n",
        "# Filter for weekend repositories (Saturday: 5, Sunday: 6)\n",
        "repos_df['day_of_week'] = repos_df['created_at'].dt.dayofweek\n",
        "weekend_repos = repos_df[repos_df['day_of_week'].isin([5, 6])]\n",
        "\n",
        "# Count the number of weekend repositories created by each user\n",
        "weekend_counts = weekend_repos['login'].value_counts().head(5)\n",
        "\n",
        "# Get the top 5 users\n",
        "top_5_users = weekend_counts.index.tolist()\n",
        "top_5_users_logins = ', '.join(top_5_users)\n",
        "\n",
        "top_5_users_logins\n"
      ],
      "metadata": {
        "colab": {
          "base_uri": "https://localhost:8080/",
          "height": 55
        },
        "id": "FnVVLSmqsR2V",
        "outputId": "567e6f5f-ec20-4f99-9b50-a82bd3145e1a"
      },
      "execution_count": null,
      "outputs": [
        {
          "output_type": "execute_result",
          "data": {
            "text/plain": [
              "'orta, joshuacassidy, No9, wafuwafu13, lmammino'"
            ],
            "application/vnd.google.colaboratory.intrinsic+json": {
              "type": "string"
            }
          },
          "metadata": {},
          "execution_count": 10
        }
      ]
    },
    {
      "cell_type": "code",
      "source": [
        "from collections import Counter\n",
        "\n",
        "# Filter out users with missing names\n",
        "names = users_df['name'].dropna().str.strip()\n",
        "\n",
        "# Extract surnames (last word)\n",
        "surnames = names.str.split().str[-1]\n",
        "\n",
        "# Count the occurrences of each surname\n",
        "surname_counts = Counter(surnames)\n",
        "\n",
        "# Find the maximum count\n",
        "max_count = max(surname_counts.values())\n",
        "\n",
        "# Get all surnames with the maximum count and sort them alphabetically\n",
        "most_common_surnames = sorted([surname for surname, count in surname_counts.items() if count == max_count])\n",
        "\n",
        "# Join the surnames into a comma-separated string\n",
        "most_common_surnames_str = ', '.join(most_common_surnames)\n",
        "\n",
        "most_common_surnames_str\n"
      ],
      "metadata": {
        "colab": {
          "base_uri": "https://localhost:8080/",
          "height": 55
        },
        "id": "qQrCS-oxsmdt",
        "outputId": "84cfde5a-98a9-4d7a-814f-2a815dc7e6be"
      },
      "execution_count": null,
      "outputs": [
        {
          "output_type": "execute_result",
          "data": {
            "text/plain": [
              "\"Chen, Kenny, O'Sullivan, Quinn\""
            ],
            "application/vnd.google.colaboratory.intrinsic+json": {
              "type": "string"
            }
          },
          "metadata": {},
          "execution_count": 11
        }
      ]
    },
    {
      "cell_type": "code",
      "source": [],
      "metadata": {
        "id": "pHWlmeaEtHje"
      },
      "execution_count": null,
      "outputs": []
    }
  ]
}